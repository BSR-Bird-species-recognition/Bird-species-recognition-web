{
  "nbformat": 4,
  "nbformat_minor": 0,
  "metadata": {
    "colab": {
      "name": "vgg16_100.ipynb",
      "provenance": [],
      "collapsed_sections": []
    },
    "kernelspec": {
      "name": "python3",
      "display_name": "Python 3"
    },
    "accelerator": "GPU"
  },
  "cells": [
    {
      "cell_type": "code",
      "metadata": {
        "id": "labUoZDBxGrq"
      },
      "source": [
        "import keras\n",
        "import numpy as np\n",
        "from keras.preprocessing.image import ImageDataGenerator\n",
        "from keras.applications.vgg16 import preprocess_input"
      ],
      "execution_count": 2,
      "outputs": []
    },
    {
      "cell_type": "code",
      "metadata": {
        "id": "tdH7F6J_xH13",
        "colab": {
          "resources": {
            "http://localhost:8080/nbextensions/google.colab/files.js": {
              "data": "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",
              "ok": true,
              "headers": [
                [
                  "content-type",
                  "application/javascript"
                ]
              ],
              "status": 200,
              "status_text": ""
            }
          },
          "base_uri": "https://localhost:8080/",
          "height": 74
        },
        "outputId": "91865748-488c-470d-abd9-bc0f4a445e85"
      },
      "source": [
        "from google.colab import files\n",
        "files.upload()\n",
        "!mkdir -p  ~/.kaggle\n",
        "!cp kaggle.json ~/.kaggle\n",
        "!chmod 600 ~/.kaggle/kaggle.json"
      ],
      "execution_count": 3,
      "outputs": [
        {
          "output_type": "display_data",
          "data": {
            "text/html": [
              "\n",
              "     <input type=\"file\" id=\"files-aa39a0f4-c941-402f-b832-9eb36ca3d612\" name=\"files[]\" multiple disabled\n",
              "        style=\"border:none\" />\n",
              "     <output id=\"result-aa39a0f4-c941-402f-b832-9eb36ca3d612\">\n",
              "      Upload widget is only available when the cell has been executed in the\n",
              "      current browser session. Please rerun this cell to enable.\n",
              "      </output>\n",
              "      <script src=\"/nbextensions/google.colab/files.js\"></script> "
            ],
            "text/plain": [
              "<IPython.core.display.HTML object>"
            ]
          },
          "metadata": {
            "tags": []
          }
        },
        {
          "output_type": "stream",
          "text": [
            "Saving kaggle.json to kaggle.json\n"
          ],
          "name": "stdout"
        }
      ]
    },
    {
      "cell_type": "code",
      "metadata": {
        "id": "Skdq_GFyxU0b",
        "colab": {
          "base_uri": "https://localhost:8080/"
        },
        "outputId": "bad9991f-63cc-46cd-f1ce-7aaa3136e1d1"
      },
      "source": [
        "!kaggle datasets download -d gpiosenka/100-bird-species"
      ],
      "execution_count": 4,
      "outputs": [
        {
          "output_type": "stream",
          "text": [
            "Downloading 100-bird-species.zip to /content\n",
            " 99% 1.53G/1.54G [00:15<00:00, 160MB/s]\n",
            "100% 1.54G/1.54G [00:15<00:00, 107MB/s]\n"
          ],
          "name": "stdout"
        }
      ]
    },
    {
      "cell_type": "code",
      "metadata": {
        "id": "uTI2l1aqxXLt"
      },
      "source": [
        "import zipfile\n",
        "local_zip = '/content/100-bird-species.zip'\n",
        "zip_ref = zipfile.ZipFile(local_zip, 'r')\n",
        "zip_ref.extractall('/content/')\n",
        "zip_ref.close()"
      ],
      "execution_count": 5,
      "outputs": []
    },
    {
      "cell_type": "code",
      "metadata": {
        "id": "z70YNTUuxH38",
        "colab": {
          "base_uri": "https://localhost:8080/"
        },
        "outputId": "6d59cd82-aa1c-4e56-9087-ec61fdaf48b1"
      },
      "source": [
        "#Creating generator for Training DataSet\n",
        "train_datagen = ImageDataGenerator(\n",
        "        preprocessing_function=preprocess_input,\n",
        "        shear_range=0.1,\n",
        "        zoom_range=0.1,\n",
        "        horizontal_flip=True)\n",
        "train_generator = train_datagen.flow_from_directory('/content/train',target_size=(224, 224),batch_size=64,class_mode='categorical')\n",
        "\n",
        "#Creating generator for Validation DataSet\n",
        "val_datagen = ImageDataGenerator(preprocessing_function=preprocess_input)\n",
        "val_generator = val_datagen.flow_from_directory('/content/valid',target_size=(224, 224),batch_size=32,class_mode='categorical')\n",
        "\n",
        "#Creating generator for Test DataSet\n",
        "test_datagen = ImageDataGenerator(preprocessing_function=preprocess_input)\n",
        "test_generator = test_datagen.flow_from_directory('/content/test',target_size=(224, 224),batch_size=32,class_mode='categorical')"
      ],
      "execution_count": 6,
      "outputs": [
        {
          "output_type": "stream",
          "text": [
            "Found 35215 images belonging to 250 classes.\n",
            "Found 1250 images belonging to 250 classes.\n",
            "Found 1250 images belonging to 250 classes.\n"
          ],
          "name": "stdout"
        }
      ]
    },
    {
      "cell_type": "code",
      "metadata": {
        "id": "jnAaSKQSxH7d",
        "colab": {
          "base_uri": "https://localhost:8080/"
        },
        "outputId": "4741fb0a-d902-4420-9db5-1f019cc9865f"
      },
      "source": [
        "#instantiate a base model with pre-trained weigts.\n",
        "base_model=keras.applications.VGG16(\n",
        "    include_top=False,\n",
        "    weights=\"imagenet\",\n",
        "    input_shape=(224,224,3))"
      ],
      "execution_count": 7,
      "outputs": [
        {
          "output_type": "stream",
          "text": [
            "Downloading data from https://storage.googleapis.com/tensorflow/keras-applications/vgg16/vgg16_weights_tf_dim_ordering_tf_kernels_notop.h5\n",
            "58892288/58889256 [==============================] - 1s 0us/step\n"
          ],
          "name": "stdout"
        }
      ]
    },
    {
      "cell_type": "code",
      "metadata": {
        "id": "Uo1-QeGcxH99"
      },
      "source": [
        "#freeze the base model\n",
        "base_model.trainable = False"
      ],
      "execution_count": 8,
      "outputs": []
    },
    {
      "cell_type": "code",
      "metadata": {
        "id": "ezx1gDmwyUzm"
      },
      "source": [
        "from keras.models import Sequential\n",
        "from keras.layers import Dense,Flatten,Dropout\n",
        "model=Sequential()\n",
        "model.add(base_model)\n",
        "model.add(Flatten())\n",
        "model.add(Dense(2048,activation='relu',kernel_initializer='he_normal'))\n",
        "model.add(Dropout(0.35))\n",
        "model.add(Dense(2048,activation='relu',kernel_initializer='he_normal'))\n",
        "model.add(Dropout(0.35))\n",
        "model.add(Dense(250,activation='softmax',kernel_initializer='glorot_normal'))"
      ],
      "execution_count": 9,
      "outputs": []
    },
    {
      "cell_type": "code",
      "metadata": {
        "id": "90qUjKt9yU2I",
        "colab": {
          "base_uri": "https://localhost:8080/"
        },
        "outputId": "175585d4-733c-45d9-a143-df46cf360707"
      },
      "source": [
        "model.summary()"
      ],
      "execution_count": 10,
      "outputs": [
        {
          "output_type": "stream",
          "text": [
            "Model: \"sequential\"\n",
            "_________________________________________________________________\n",
            "Layer (type)                 Output Shape              Param #   \n",
            "=================================================================\n",
            "vgg16 (Functional)           (None, 7, 7, 512)         14714688  \n",
            "_________________________________________________________________\n",
            "flatten (Flatten)            (None, 25088)             0         \n",
            "_________________________________________________________________\n",
            "dense (Dense)                (None, 2048)              51382272  \n",
            "_________________________________________________________________\n",
            "dropout (Dropout)            (None, 2048)              0         \n",
            "_________________________________________________________________\n",
            "dense_1 (Dense)              (None, 2048)              4196352   \n",
            "_________________________________________________________________\n",
            "dropout_1 (Dropout)          (None, 2048)              0         \n",
            "_________________________________________________________________\n",
            "dense_2 (Dense)              (None, 250)               512250    \n",
            "=================================================================\n",
            "Total params: 70,805,562\n",
            "Trainable params: 56,090,874\n",
            "Non-trainable params: 14,714,688\n",
            "_________________________________________________________________\n"
          ],
          "name": "stdout"
        }
      ]
    },
    {
      "cell_type": "code",
      "metadata": {
        "id": "Nihp1SoVyU6C"
      },
      "source": [
        "model.compile(optimizer=keras.optimizers.Adam(1e-4),loss='categorical_crossentropy',metrics=['accuracy'])"
      ],
      "execution_count": 11,
      "outputs": []
    },
    {
      "cell_type": "code",
      "metadata": {
        "id": "HnV7LeWzyU4Q",
        "colab": {
          "base_uri": "https://localhost:8080/"
        },
        "outputId": "cd119a8b-5a7a-4509-d0dd-b9e2c83267a5"
      },
      "source": [
        "history=model.fit(train_generator,epochs=40,validation_data=val_generator,workers=10)"
      ],
      "execution_count": 14,
      "outputs": [
        {
          "output_type": "stream",
          "text": [
            "Epoch 1/40\n",
            "551/551 [==============================] - 379s 677ms/step - loss: 6.6077 - accuracy: 0.0680 - val_loss: 3.8726 - val_accuracy: 0.2576\n",
            "Epoch 2/40\n",
            "551/551 [==============================] - 369s 659ms/step - loss: 3.9439 - accuracy: 0.2673 - val_loss: 2.0177 - val_accuracy: 0.5912\n",
            "Epoch 3/40\n",
            "551/551 [==============================] - 355s 632ms/step - loss: 2.8495 - accuracy: 0.4469 - val_loss: 1.1658 - val_accuracy: 0.7320\n",
            "Epoch 4/40\n",
            "551/551 [==============================] - 353s 629ms/step - loss: 2.2249 - accuracy: 0.5596 - val_loss: 0.8455 - val_accuracy: 0.8000\n",
            "Epoch 5/40\n",
            "551/551 [==============================] - 351s 626ms/step - loss: 1.8785 - accuracy: 0.6214 - val_loss: 0.6638 - val_accuracy: 0.8392\n",
            "Epoch 6/40\n",
            "551/551 [==============================] - 355s 633ms/step - loss: 1.6419 - accuracy: 0.6701 - val_loss: 0.6108 - val_accuracy: 0.8592\n",
            "Epoch 7/40\n",
            "551/551 [==============================] - 348s 621ms/step - loss: 1.4675 - accuracy: 0.7074 - val_loss: 0.5298 - val_accuracy: 0.8808\n",
            "Epoch 8/40\n",
            "551/551 [==============================] - 347s 619ms/step - loss: 1.3141 - accuracy: 0.7368 - val_loss: 0.4983 - val_accuracy: 0.8912\n",
            "Epoch 9/40\n",
            "551/551 [==============================] - 348s 619ms/step - loss: 1.2227 - accuracy: 0.7606 - val_loss: 0.4223 - val_accuracy: 0.9104\n",
            "Epoch 10/40\n",
            "551/551 [==============================] - 347s 617ms/step - loss: 1.1103 - accuracy: 0.7827 - val_loss: 0.4324 - val_accuracy: 0.9064\n",
            "Epoch 11/40\n",
            "551/551 [==============================] - 347s 618ms/step - loss: 1.0754 - accuracy: 0.7922 - val_loss: 0.4681 - val_accuracy: 0.9056\n",
            "Epoch 12/40\n",
            "551/551 [==============================] - 348s 619ms/step - loss: 0.9895 - accuracy: 0.8095 - val_loss: 0.4119 - val_accuracy: 0.9096\n",
            "Epoch 13/40\n",
            "551/551 [==============================] - 347s 618ms/step - loss: 0.9494 - accuracy: 0.8189 - val_loss: 0.3951 - val_accuracy: 0.9144\n",
            "Epoch 14/40\n",
            "551/551 [==============================] - 347s 619ms/step - loss: 0.8775 - accuracy: 0.8335 - val_loss: 0.3407 - val_accuracy: 0.9240\n",
            "Epoch 15/40\n",
            "551/551 [==============================] - 347s 618ms/step - loss: 0.8362 - accuracy: 0.8420 - val_loss: 0.4223 - val_accuracy: 0.9224\n",
            "Epoch 16/40\n",
            "551/551 [==============================] - 351s 624ms/step - loss: 0.7765 - accuracy: 0.8522 - val_loss: 0.3737 - val_accuracy: 0.9160\n",
            "Epoch 17/40\n",
            "551/551 [==============================] - 364s 649ms/step - loss: 0.7908 - accuracy: 0.8571 - val_loss: 0.3577 - val_accuracy: 0.9272\n",
            "Epoch 18/40\n",
            "551/551 [==============================] - 364s 648ms/step - loss: 0.7714 - accuracy: 0.8604 - val_loss: 0.4279 - val_accuracy: 0.9280\n",
            "Epoch 19/40\n",
            "551/551 [==============================] - 358s 638ms/step - loss: 0.7327 - accuracy: 0.8667 - val_loss: 0.3771 - val_accuracy: 0.9296\n",
            "Epoch 20/40\n",
            "551/551 [==============================] - 356s 634ms/step - loss: 0.7055 - accuracy: 0.8738 - val_loss: 0.3392 - val_accuracy: 0.9376\n",
            "Epoch 21/40\n",
            "551/551 [==============================] - 355s 633ms/step - loss: 0.6718 - accuracy: 0.8799 - val_loss: 0.4250 - val_accuracy: 0.9352\n",
            "Epoch 22/40\n",
            "551/551 [==============================] - 356s 633ms/step - loss: 0.6285 - accuracy: 0.8860 - val_loss: 0.3634 - val_accuracy: 0.9408\n",
            "Epoch 23/40\n",
            "551/551 [==============================] - 354s 631ms/step - loss: 0.6414 - accuracy: 0.8875 - val_loss: 0.3637 - val_accuracy: 0.9392\n",
            "Epoch 24/40\n",
            "551/551 [==============================] - 351s 625ms/step - loss: 0.5796 - accuracy: 0.8975 - val_loss: 0.3438 - val_accuracy: 0.9424\n",
            "Epoch 25/40\n",
            "551/551 [==============================] - 347s 617ms/step - loss: 0.5706 - accuracy: 0.8988 - val_loss: 0.2956 - val_accuracy: 0.9456\n",
            "Epoch 26/40\n",
            "551/551 [==============================] - 348s 620ms/step - loss: 0.5300 - accuracy: 0.9057 - val_loss: 0.3273 - val_accuracy: 0.9360\n",
            "Epoch 27/40\n",
            "551/551 [==============================] - 348s 620ms/step - loss: 0.5399 - accuracy: 0.9052 - val_loss: 0.3385 - val_accuracy: 0.9384\n",
            "Epoch 28/40\n",
            "551/551 [==============================] - 348s 620ms/step - loss: 0.5143 - accuracy: 0.9101 - val_loss: 0.3577 - val_accuracy: 0.9392\n",
            "Epoch 29/40\n",
            "551/551 [==============================] - 347s 619ms/step - loss: 0.4963 - accuracy: 0.9121 - val_loss: 0.2998 - val_accuracy: 0.9432\n",
            "Epoch 30/40\n",
            "551/551 [==============================] - 347s 618ms/step - loss: 0.4806 - accuracy: 0.9146 - val_loss: 0.2970 - val_accuracy: 0.9480\n",
            "Epoch 31/40\n",
            "551/551 [==============================] - 350s 623ms/step - loss: 0.4818 - accuracy: 0.9155 - val_loss: 0.2800 - val_accuracy: 0.9464\n",
            "Epoch 32/40\n",
            "551/551 [==============================] - 346s 617ms/step - loss: 0.4489 - accuracy: 0.9215 - val_loss: 0.2995 - val_accuracy: 0.9464\n",
            "Epoch 33/40\n",
            "551/551 [==============================] - 349s 623ms/step - loss: 0.4267 - accuracy: 0.9244 - val_loss: 0.3523 - val_accuracy: 0.9440\n",
            "Epoch 34/40\n",
            "551/551 [==============================] - 384s 685ms/step - loss: 0.4425 - accuracy: 0.9234 - val_loss: 0.3291 - val_accuracy: 0.9488\n",
            "Epoch 35/40\n",
            "551/551 [==============================] - 394s 702ms/step - loss: 0.4133 - accuracy: 0.9268 - val_loss: 0.2574 - val_accuracy: 0.9512\n",
            "Epoch 36/40\n",
            "551/551 [==============================] - 369s 656ms/step - loss: 0.4172 - accuracy: 0.9285 - val_loss: 0.3005 - val_accuracy: 0.9440\n",
            "Epoch 37/40\n",
            "551/551 [==============================] - 369s 658ms/step - loss: 0.3702 - accuracy: 0.9320 - val_loss: 0.3032 - val_accuracy: 0.9472\n",
            "Epoch 38/40\n",
            "551/551 [==============================] - 371s 661ms/step - loss: 0.3776 - accuracy: 0.9315 - val_loss: 0.3153 - val_accuracy: 0.9480\n",
            "Epoch 39/40\n",
            "551/551 [==============================] - 368s 655ms/step - loss: 0.3863 - accuracy: 0.9313 - val_loss: 0.2903 - val_accuracy: 0.9504\n",
            "Epoch 40/40\n",
            "551/551 [==============================] - 369s 657ms/step - loss: 0.3633 - accuracy: 0.9349 - val_loss: 0.3100 - val_accuracy: 0.9488\n"
          ],
          "name": "stdout"
        }
      ]
    },
    {
      "cell_type": "code",
      "metadata": {
        "id": "HKZsE1vYzDpF",
        "colab": {
          "base_uri": "https://localhost:8080/",
          "height": 513
        },
        "outputId": "6faf4123-fee1-4482-d0a7-746d17330b8e"
      },
      "source": [
        "#Some visualizations\n",
        "import matplotlib.pyplot as plt\n",
        "#Loss\n",
        "plt.plot(history.history['loss'],label='loss')\n",
        "plt.plot(history.history['val_loss'],label='val_loss')\n",
        "plt.legend()\n",
        "plt.show()\n",
        "#Accuracy\n",
        "plt.plot(history.history['accuracy'],label='acc')\n",
        "plt.plot(history.history['val_accuracy'],label='val_acc')\n",
        "plt.legend()\n",
        "plt.show()"
      ],
      "execution_count": 15,
      "outputs": [
        {
          "output_type": "display_data",
          "data": {
            "image/png": "[encoded data removed]",
            "text/plain": [
              "<Figure size 432x288 with 1 Axes>"
            ]
          },
          "metadata": {
            "tags": [],
            "needs_background": "light"
          }
        },
        {
          "output_type": "display_data",
          "data": {
            "image/png": "[encoded data removed]",
            "text/plain": [
              "<Figure size 432x288 with 1 Axes>"
            ]
          },
          "metadata": {
            "tags": [],
            "needs_background": "light"
          }
        }
      ]
    },
    {
      "cell_type": "code",
      "metadata": {
        "id": "7qjE-Y95zDsK"
      },
      "source": [
        "model.save(\"/content/birds.h5\")"
      ],
      "execution_count": 16,
      "outputs": []
    },
    {
      "cell_type": "code",
      "metadata": {
        "id": "T_j7E6zvaqar",
        "outputId": "c6f94c3a-3629-4de2-ed09-4e506d867e98",
        "colab": {
          "base_uri": "https://localhost:8080/"
        }
      },
      "source": [
        "from google.colab import drive\n",
        "drive.mount('/content/drive')"
      ],
      "execution_count": 21,
      "outputs": [
        {
          "output_type": "stream",
          "text": [
            "Drive already mounted at /content/drive; to attempt to forcibly remount, call drive.mount(\"/content/drive\", force_remount=True).\n"
          ],
          "name": "stdout"
        }
      ]
    },
    {
      "cell_type": "code",
      "metadata": {
        "id": "PM49Ug6Va4AU"
      },
      "source": [
        "!cp birds.h5 drive/MyDrive/"
      ],
      "execution_count": 20,
      "outputs": []
    },
    {
      "cell_type": "code",
      "metadata": {
        "id": "XnBR0GqwsENw",
        "colab": {
          "base_uri": "https://localhost:8080/"
        },
        "outputId": "435e0fe0-f76d-4f6d-9b50-a88b39cfa26f"
      },
      "source": [
        "model.evaluate(test_generator,use_multiprocessing=True,workers=10)"
      ],
      "execution_count": 18,
      "outputs": [
        {
          "output_type": "stream",
          "text": [
            "WARNING:tensorflow:multiprocessing can interact badly with TensorFlow, causing nondeterministic deadlocks. For high performance data pipelines tf.data is recommended.\n",
            "40/40 [==============================] - 7s 131ms/step - loss: 0.1709 - accuracy: 0.9632\n"
          ],
          "name": "stdout"
        },
        {
          "output_type": "execute_result",
          "data": {
            "text/plain": [
              "[0.17085152864456177, 0.9631999731063843]"
            ]
          },
          "metadata": {
            "tags": []
          },
          "execution_count": 18
        }
      ]
    }
  ]
}